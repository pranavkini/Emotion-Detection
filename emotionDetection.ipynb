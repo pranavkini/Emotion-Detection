{
  "nbformat": 4,
  "nbformat_minor": 0,
  "metadata": {
    "colab": {
      "provenance": []
    },
    "kernelspec": {
      "name": "python3",
      "display_name": "Python 3"
    },
    "language_info": {
      "name": "python"
    }
  },
  "cells": [
    {
      "cell_type": "code",
      "source": [
        "from google.colab import drive\n",
        "drive.mount('/content/drive')"
      ],
      "metadata": {
        "colab": {
          "base_uri": "https://localhost:8080/"
        },
        "id": "RcVL8JHJoSS0",
        "outputId": "7b413f83-550c-47bb-9b6f-c4d5b735d4cd"
      },
      "execution_count": null,
      "outputs": [
        {
          "output_type": "stream",
          "name": "stdout",
          "text": [
            "Mounted at /content/drive\n"
          ]
        }
      ]
    },
    {
      "cell_type": "markdown",
      "source": [
        "#Importing libraries\n"
      ],
      "metadata": {
        "id": "0MW1KMWYb9Bb"
      }
    },
    {
      "cell_type": "code",
      "source": [
        "import cv2\n",
        "import numpy as np\n",
        "import os"
      ],
      "metadata": {
        "id": "-dbhL0FAIPI6"
      },
      "execution_count": null,
      "outputs": []
    },
    {
      "cell_type": "markdown",
      "source": [
        "#Loading Templates\n"
      ],
      "metadata": {
        "id": "CaayiLsacFX_"
      }
    },
    {
      "cell_type": "code",
      "source": [
        "def load_templates(templates_path):\n",
        "    templates = {}\n",
        "    for emotion_folder in os.listdir(templates_path):\n",
        "        emotion_path = os.path.join(templates_path, emotion_folder)\n",
        "        templates[emotion_folder] = []\n",
        "        for template_name in os.listdir(emotion_path):\n",
        "            template_path = os.path.join(emotion_path, template_name)\n",
        "            template_img = cv2.imread(template_path, 0)\n",
        "            templates[emotion_folder].append(template_img)\n",
        "    return templates"
      ],
      "metadata": {
        "id": "bygv5rACIPWo"
      },
      "execution_count": null,
      "outputs": []
    },
    {
      "cell_type": "markdown",
      "source": [
        "#Matching the image with templates\n"
      ],
      "metadata": {
        "id": "icMXorAGcIjs"
      }
    },
    {
      "cell_type": "code",
      "source": [
        "def custom_match_template(image, template):\n",
        "    image_h, image_w = image.shape\n",
        "    template_h, template_w = template.shape\n",
        "    best_score = -1\n",
        "    best_location = None\n",
        "    template = template - np.mean(template)\n",
        "    for y in range(image_h - template_h + 1):\n",
        "        for x in range(image_w - template_w + 1):\n",
        "            roi = image[y:y + template_h, x:x + template_w]\n",
        "            roi = roi - np.mean(roi)\n",
        "            numerator = np.sum(roi * template)\n",
        "            denominator = np.sqrt(np.sum(roi**2) * np.sum(template**2))\n",
        "            score = numerator / denominator if denominator != 0 else 0\n",
        "\n",
        "            if score > best_score:\n",
        "                best_score = score\n",
        "                best_location = (x, y)\n",
        "\n",
        "    return best_score, best_location"
      ],
      "metadata": {
        "id": "im7jZwg-IPfg"
      },
      "execution_count": null,
      "outputs": []
    },
    {
      "cell_type": "code",
      "source": [
        "def match_template(image, templates):\n",
        "    best_score = 0\n",
        "    best_emotion = None\n",
        "    for emotion, template_list in templates.items():\n",
        "        for template in template_list:\n",
        "            score, _ = custom_match_template(image, template)\n",
        "\n",
        "            if score > best_score:\n",
        "                best_score = score\n",
        "                best_emotion = emotion\n",
        "\n",
        "    return best_emotion, best_score"
      ],
      "metadata": {
        "id": "cYlRJ_dxIPoQ"
      },
      "execution_count": null,
      "outputs": []
    },
    {
      "cell_type": "markdown",
      "source": [
        "#Load image to detect"
      ],
      "metadata": {
        "id": "rkPwN28AcXMv"
      }
    },
    {
      "cell_type": "code",
      "source": [
        "def load_image(image_path):\n",
        "    image = cv2.imread(image_path, 0)\n",
        "    if image is None:\n",
        "        raise Exception(f\"Failed to load image from {image_path}.\")\n",
        "    return image"
      ],
      "metadata": {
        "id": "dnMmmWMLIPwo"
      },
      "execution_count": null,
      "outputs": []
    },
    {
      "cell_type": "markdown",
      "source": [
        "#Driver"
      ],
      "metadata": {
        "id": "u7_nL5uqcbhA"
      }
    },
    {
      "cell_type": "code",
      "source": [
        "def detect_emotion_from_image(image_path, templates):\n",
        "    image = load_image(image_path)\n",
        "    emotion, score = match_template(image, templates)\n",
        "    print(f\"Detected Emotion: {emotion}, Score: {score}\")\n",
        "    return emotion, score"
      ],
      "metadata": {
        "id": "fWu4zL5UIP4A"
      },
      "execution_count": null,
      "outputs": []
    },
    {
      "cell_type": "code",
      "source": [
        "def main():\n",
        "    templates_path = r\"/content/drive/MyDrive/train\"\n",
        "    image_path = r\"/content/drive/MyDrive/train/happy/im0.png\"\n",
        "    templates = load_templates(templates_path)\n",
        "    detect_emotion_from_image(image_path, templates)\n"
      ],
      "metadata": {
        "id": "jlFGhmatIP_w"
      },
      "execution_count": null,
      "outputs": []
    },
    {
      "cell_type": "code",
      "source": [
        "if __name__ == \"__main__\":\n",
        "    main()"
      ],
      "metadata": {
        "colab": {
          "base_uri": "https://localhost:8080/"
        },
        "id": "59iUzbPHIQGw",
        "outputId": "e0f68c3b-3683-4243-b0a0-38d5c4fb2dbf"
      },
      "execution_count": null,
      "outputs": [
        {
          "output_type": "stream",
          "name": "stdout",
          "text": [
            "Detected Emotion: happy, Score: 1.0\n"
          ]
        }
      ]
    }
  ]
}